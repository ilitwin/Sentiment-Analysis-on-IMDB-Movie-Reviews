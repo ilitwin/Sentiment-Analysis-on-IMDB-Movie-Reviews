{
 "cells": [
  {
   "cell_type": "markdown",
   "metadata": {},
   "source": [
    "# Sentiment Analysis on IMDB Movie Reviews\n",
    "\n",
    "In this analysis, we want to create models which we can train to classify new IMDB reviews into the specified 2 categories (positive/negative review). I created Keras models by loading a data set, preprocessing input data, building a Sequential Keras model and compiling the model with a training configuration. I also created Random Forest models on the training data and evaluated it on the test set. \n",
    "\n",
    "In this project, I used Keras, NumPy and Scikit-learn in the IBM Watson Studio. I used Python with Apache Spark Environment with one Worker. \n",
    "\n",
    "## Use Case\n",
    "\n",
    "For IMDB:\n",
    "- Used to determine the attitude of the reviewer with respect to various topics or the overall polarity of review\n",
    "- Help in determining which movie should be recommended to a reviewer given that his/her review for a particular movie was negative/positive\n",
    "\n",
    "For online users: \n",
    "- If positive and negative reviews are highlighted in different colors on the IMDB website, users will be able to easily see if the review is positive or negative without reading the entire review. \n",
    "- Users would be given recommendatons on the IMDB for next movies to watch, based on the reviews they wrote for other movies. This would significantly enhance user experience. \n",
    "\n",
    "## Data Set\n",
    "\n",
    "We are looking at a dataset of 50,000 movie reviews from IMDB, categorized by sentiment (positive/negative). Reviews have been preprocessed, and each review is encoded as a sequence of word indexes (integers). For convenience, words are indexed by overall frequency in the dataset, so that for instance the integer \"4\" encodes the 4th most frequent word in the data. As a convention, \"0\" does not stand for a specific word, but instead is used to encode any unknown word. This dataset is available through the Keras API."
   ]
  },
  {
   "cell_type": "markdown",
   "metadata": {},
   "source": [
    "## Data Quality Assessment and ETL Process"
   ]
  },
  {
   "cell_type": "markdown",
   "metadata": {},
   "source": [
    "The data quality of the dataset is fairly good. There are no missing datapoints. All features are integers (word frequencies) and the outcome variables takes values 0 or 1. "
   ]
  },
  {
   "cell_type": "code",
   "execution_count": 1,
   "metadata": {},
   "outputs": [
    {
     "name": "stdout",
     "output_type": "stream",
     "text": [
      "Waiting for a Spark session to start...\n",
      "Spark Initialization Done! ApplicationId = app-20200122033634-0002\n",
      "KERNEL_ID = 122146aa-6bb8-4c32-84f3-291b362b5312\n"
     ]
    },
    {
     "name": "stderr",
     "output_type": "stream",
     "text": [
      "Using TensorFlow backend.\n"
     ]
    }
   ],
   "source": [
    "import numpy as np\n",
    "from keras.models import Sequential\n",
    "from keras.layers import Dense, Dropout, MaxPooling1D, Flatten\n",
    "from keras.utils import to_categorical\n",
    "seed = 142\n",
    "np.random.seed(seed)\n",
    "from keras.datasets import imdb\n",
    "\n",
    "max_words = 5000\n",
    "\n",
    "(x_train, y_train), (x_test, y_test) = imdb.load_data(num_words=max_words,seed=seed)\n",
    "\n",
    "num_classes = np.max(y_train) + 1 # sentiment (positive/negative)"
   ]
  },
  {
   "cell_type": "markdown",
   "metadata": {},
   "source": [
    "I capped the maximum number of words in a review item to 5000 top most frequent words. Also, 50% of the data is test data, meaning that there are 25,000 observations in the train set and 25,000 observations in the test set."
   ]
  },
  {
   "cell_type": "code",
   "execution_count": 2,
   "metadata": {},
   "outputs": [
    {
     "name": "stdout",
     "output_type": "stream",
     "text": [
      "x_train dimensions: (25000,)\n",
      "x_test dimensions: (25000,)\n"
     ]
    }
   ],
   "source": [
    "print(\"x_train dimensions:\", x_train.shape)\n",
    "print(\"x_test dimensions:\", x_train.shape)"
   ]
  },
  {
   "cell_type": "markdown",
   "metadata": {},
   "source": [
    "## Data Exploration and Visualization"
   ]
  },
  {
   "cell_type": "markdown",
   "metadata": {},
   "source": [
    "The outcome variable (review sentiment) has 2 categories: 0 (negative sentiment) and 1 (positive sentiment). There are 4998 unique words in the dataset, confirming that the choice of capping the maximum number of words in a review item to 5000 is reasonable.  "
   ]
  },
  {
   "cell_type": "code",
   "execution_count": 3,
   "metadata": {},
   "outputs": [
    {
     "name": "stdout",
     "output_type": "stream",
     "text": [
      "Categories: [0 1]\n",
      "Number of unique words in dataset: 4998\n"
     ]
    }
   ],
   "source": [
    "dataX = np.concatenate((x_train, x_test), axis=0)\n",
    "dataY = np.concatenate((y_train, y_test), axis=0)\n",
    "\n",
    "print(\"Categories:\", np.unique(dataY)) # Sentiment values (positive/negative)\n",
    "print(\"Number of unique words in dataset:\", len(np.unique(np.hstack(dataX))))"
   ]
  },
  {
   "cell_type": "code",
   "execution_count": 4,
   "metadata": {},
   "outputs": [
    {
     "data": {
      "text/plain": [
       "[1,\n",
       " 3053,\n",
       " 312,\n",
       " 23,\n",
       " 4,\n",
       " 1023,\n",
       " 7,\n",
       " 4194,\n",
       " 209,\n",
       " 6,\n",
       " 1203,\n",
       " 385,\n",
       " 6,\n",
       " 2,\n",
       " 2869,\n",
       " 7,\n",
       " 102,\n",
       " 4689,\n",
       " 14,\n",
       " 9,\n",
       " 31,\n",
       " 7,\n",
       " 4,\n",
       " 118,\n",
       " 6,\n",
       " 55,\n",
       " 185,\n",
       " 2,\n",
       " 2,\n",
       " 133,\n",
       " 17,\n",
       " 4,\n",
       " 24,\n",
       " 66,\n",
       " 99,\n",
       " 3206,\n",
       " 1629,\n",
       " 4,\n",
       " 65,\n",
       " 2,\n",
       " 53,\n",
       " 23,\n",
       " 2,\n",
       " 7,\n",
       " 2,\n",
       " 74,\n",
       " 101,\n",
       " 2,\n",
       " 2,\n",
       " 4,\n",
       " 696,\n",
       " 177,\n",
       " 9,\n",
       " 906,\n",
       " 2,\n",
       " 4189,\n",
       " 40,\n",
       " 35,\n",
       " 154,\n",
       " 3348,\n",
       " 43,\n",
       " 6,\n",
       " 65,\n",
       " 7,\n",
       " 6,\n",
       " 185,\n",
       " 132,\n",
       " 15,\n",
       " 659,\n",
       " 409,\n",
       " 193,\n",
       " 27,\n",
       " 1729,\n",
       " 76,\n",
       " 99,\n",
       " 615]"
      ]
     },
     "execution_count": 4,
     "metadata": {},
     "output_type": "execute_result"
    }
   ],
   "source": [
    "x_test[1] # Sample feature; features are sequences of word indexes in form of integers"
   ]
  },
  {
   "cell_type": "code",
   "execution_count": 5,
   "metadata": {},
   "outputs": [
    {
     "data": {
      "text/plain": [
       "(array([25000.,     0.,     0.,     0.,     0.,     0.,     0.,     0.,\n",
       "            0., 25000.]),\n",
       " array([0. , 0.1, 0.2, 0.3, 0.4, 0.5, 0.6, 0.7, 0.8, 0.9, 1. ]),\n",
       " <a list of 10 Patch objects>)"
      ]
     },
     "execution_count": 5,
     "metadata": {},
     "output_type": "execute_result"
    },
    {
     "data": {
      "image/png": "[encoded data removed]",
      "text/plain": [
       "<Figure size 432x288 with 1 Axes>"
      ]
     },
     "metadata": {
      "needs_background": "light"
     },
     "output_type": "display_data"
    }
   ],
   "source": [
    "import matplotlib.pyplot as plt\n",
    "%matplotlib inline\n",
    "\n",
    "plt.hist(dataY) # Distribution of Labels"
   ]
  },
  {
   "cell_type": "markdown",
   "metadata": {},
   "source": [
    "Based on the hostogram, the dataset is balanced, meaning that itconsists of 50% negative and 50% positive reviews. Based on this consideration, I will be able to use accuracy as the classification model prediction measure. "
   ]
  },
  {
   "cell_type": "markdown",
   "metadata": {},
   "source": [
    "## Feature Engineering\n",
    "\n",
    "The training features are still sequences of indexes. They need to be further preprocess, so that we can plug them into a Dense layer. For this we use a Tokenizer from Keras text preprocessing module. This tokenizer will take an index sequence and map it to a vector of length max_words=5000. Each of the 5000 vector positions corresponds to one of the words in our reviews. The output of the tokenizer has a 1 at the ith position of the vector, if the word corresponding to i is in the review, and 0 otherwise. Even if this word appears multiple times, we still just put a 1 into our vector, i.e. our tokenizer is binary. We use this tokenizer to transform both train and test features below. "
   ]
  },
  {
   "cell_type": "code",
   "execution_count": 6,
   "metadata": {},
   "outputs": [],
   "source": [
    "from keras.preprocessing.text import Tokenizer\n",
    "\n",
    "tokenizer = Tokenizer(num_words=max_words)\n",
    "x_train = tokenizer.sequences_to_matrix(x_train, mode='binary')\n",
    "x_test = tokenizer.sequences_to_matrix(x_test, mode='binary')"
   ]
  },
  {
   "cell_type": "markdown",
   "metadata": {},
   "source": [
    "#### One Hot Encoding\n",
    "\n",
    "I transformed both train and test label datasets into one-hot encoded vectors of length 2 (sentiment can be either positive or negative)."
   ]
  },
  {
   "cell_type": "code",
   "execution_count": 7,
   "metadata": {},
   "outputs": [],
   "source": [
    "y_train = to_categorical(y_train, num_classes)\n",
    "y_test = to_categorical(y_test, num_classes)"
   ]
  },
  {
   "cell_type": "markdown",
   "metadata": {},
   "source": [
    "## 2. Models\n",
    "\n",
    "### DeepLearning Algorithm: Models 1 and 2\n",
    "\n",
    "I created Convolutional Neural Network models in Keras to classify each film review. I chose Convolutional Neural Network because it has proven very effective in classification problems. \n",
    "\n",
    "Model 1: Keras *Sequential* model and added 4 layers to it:\n",
    "\n",
    "- *Dense* layer with in input_dim=(max_words) and \"relu\" activation\n",
    "- *Dropout* layer with dropout rate of 50%\n",
    "- *Dense* layer with 250 output units and \"relu\" activation\n",
    "- *Dense* layer with 2 output units and \"sigmoid\" activation\n",
    "\n",
    "Model 2: Keras *Sequential* model and added 3 layers to it:\n",
    "\n",
    "- *Dense* layer with in input_dim=(max_words) and \"relu\" activation\n",
    "- *Dropout* layer with dropout rate of 50%\n",
    "- *Dense* layer with 2 output units and \"softmax\" activation\n",
    "\n",
    "### Machine Learning Algorithm: Models 3 and 4\n",
    "\n",
    "I created 2 Random Forest models because it is considered as a highly accurate and robust method because of the number of decision trees participating in the process.\n",
    "\n",
    "Model 3: Random Forest model with n_estimators = 10. \n",
    "\n",
    "Model 4: Random Forest model with n_estimators = 100. \n",
    "\n"
   ]
  },
  {
   "cell_type": "code",
   "execution_count": 8,
   "metadata": {},
   "outputs": [
    {
     "name": "stderr",
     "output_type": "stream",
     "text": [
      "WARNING:tensorflow:From /opt/ibm/conda/miniconda3.6/lib/python3.6/site-packages/tensorflow/python/framework/op_def_library.py:263: colocate_with (from tensorflow.python.framework.ops) is deprecated and will be removed in a future version.\n",
      "Instructions for updating:\n",
      "Colocations handled automatically by placer.\n",
      "WARNING:tensorflow:From /opt/ibm/conda/miniconda3.6/lib/python3.6/site-packages/keras/backend/tensorflow_backend.py:3445: calling dropout (from tensorflow.python.ops.nn_ops) with keep_prob is deprecated and will be removed in a future version.\n",
      "Instructions for updating:\n",
      "Please use `rate` instead of `keep_prob`. Rate should be set to `rate = 1 - keep_prob`.\n"
     ]
    },
    {
     "name": "stdout",
     "output_type": "stream",
     "text": [
      "_________________________________________________________________\n",
      "Layer (type)                 Output Shape              Param #   \n",
      "=================================================================\n",
      "dense_1 (Dense)              (None, 5000)              25005000  \n",
      "_________________________________________________________________\n",
      "dropout_1 (Dropout)          (None, 5000)              0         \n",
      "_________________________________________________________________\n",
      "dense_2 (Dense)              (None, 250)               1250250   \n",
      "_________________________________________________________________\n",
      "dense_3 (Dense)              (None, 2)                 502       \n",
      "=================================================================\n",
      "Total params: 26,255,752\n",
      "Trainable params: 26,255,752\n",
      "Non-trainable params: 0\n",
      "_________________________________________________________________\n"
     ]
    }
   ],
   "source": [
    "model1 = Sequential() \n",
    "\n",
    "model1.add(Dense(max_words, activation = 'relu', input_dim = (max_words)))  \n",
    "model1.add(Dropout(0.5))\n",
    "model1.add(Dense(250, activation='relu'))\n",
    "model1.add(Dense(num_classes, activation ='sigmoid'))\n",
    "\n",
    "model1.summary()"
   ]
  },
  {
   "cell_type": "code",
   "execution_count": 9,
   "metadata": {},
   "outputs": [
    {
     "name": "stdout",
     "output_type": "stream",
     "text": [
      "_________________________________________________________________\n",
      "Layer (type)                 Output Shape              Param #   \n",
      "=================================================================\n",
      "dense_4 (Dense)              (None, 5000)              25005000  \n",
      "_________________________________________________________________\n",
      "dropout_2 (Dropout)          (None, 5000)              0         \n",
      "_________________________________________________________________\n",
      "dense_5 (Dense)              (None, 2)                 10002     \n",
      "=================================================================\n",
      "Total params: 25,015,002\n",
      "Trainable params: 25,015,002\n",
      "Non-trainable params: 0\n",
      "_________________________________________________________________\n"
     ]
    }
   ],
   "source": [
    "model2 = Sequential() \n",
    "\n",
    "model2.add(Dense(max_words, activation = 'relu', input_dim = (max_words)))  \n",
    "model2.add(Dropout(0.5))\n",
    "model2.add(Dense(num_classes, activation ='softmax'))\n",
    "\n",
    "model2.summary()"
   ]
  },
  {
   "cell_type": "code",
   "execution_count": 10,
   "metadata": {},
   "outputs": [],
   "source": [
    "from sklearn.ensemble import RandomForestClassifier\n",
    "from sklearn.metrics import classification_report\n",
    "from sklearn.model_selection import learning_curve\n",
    "\n",
    "model3 = RandomForestClassifier(n_estimators=10)"
   ]
  },
  {
   "cell_type": "code",
   "execution_count": 11,
   "metadata": {},
   "outputs": [],
   "source": [
    "model4 = RandomForestClassifier(n_estimators=100)"
   ]
  },
  {
   "cell_type": "markdown",
   "metadata": {},
   "source": [
    "## Model Compilation\n",
    "\n",
    "As the next step, I compile the Keras models with a training configuration. I pick a loss function and an optimizer. Since this is a binary classification problem and the output of our network is a probability, I use the binary_crossentropy loss. I configure the model with the adam optimizer."
   ]
  },
  {
   "cell_type": "code",
   "execution_count": 12,
   "metadata": {},
   "outputs": [],
   "source": [
    "model1.compile(loss = 'binary_crossentropy', optimizer = 'adam', metrics = ['accuracy'])"
   ]
  },
  {
   "cell_type": "code",
   "execution_count": 13,
   "metadata": {},
   "outputs": [],
   "source": [
    "model2.compile(loss = 'binary_crossentropy', optimizer = 'adam', metrics = ['accuracy'])"
   ]
  },
  {
   "cell_type": "markdown",
   "metadata": {},
   "source": [
    "## Model Training and Performance Indicator \n",
    "\n",
    "I defined the batch_size for training as 64 (usually batch_size between 60 and 80 is optimal) and train the model for 5 epochs on *x_train* and *y_train* by using the *fit* method of your model. Then, I calculated the score for your trained model by running *evaluate* on *x_test* and *y_test* with the same batch size as used in *fit*."
   ]
  },
  {
   "cell_type": "code",
   "execution_count": 14,
   "metadata": {},
   "outputs": [
    {
     "name": "stderr",
     "output_type": "stream",
     "text": [
      "WARNING:tensorflow:From /opt/ibm/conda/miniconda3.6/lib/python3.6/site-packages/tensorflow/python/ops/math_ops.py:3066: to_int32 (from tensorflow.python.ops.math_ops) is deprecated and will be removed in a future version.\n",
      "Instructions for updating:\n",
      "Use tf.cast instead.\n"
     ]
    },
    {
     "name": "stdout",
     "output_type": "stream",
     "text": [
      "Train on 25000 samples, validate on 25000 samples\n",
      "Epoch 1/5\n",
      "25000/25000 [==============================] - 148s 6ms/step - loss: 0.3284 - acc: 0.8596 - val_loss: 0.2934 - val_acc: 0.8728\n",
      "Epoch 2/5\n",
      "25000/25000 [==============================] - 146s 6ms/step - loss: 0.2193 - acc: 0.9093 - val_loss: 0.3292 - val_acc: 0.8585\n",
      "Epoch 3/5\n",
      "25000/25000 [==============================] - 146s 6ms/step - loss: 0.1461 - acc: 0.9394 - val_loss: 0.4016 - val_acc: 0.8715\n",
      "Epoch 4/5\n",
      "25000/25000 [==============================] - 145s 6ms/step - loss: 0.0794 - acc: 0.9684 - val_loss: 0.4685 - val_acc: 0.8719\n",
      "Epoch 5/5\n",
      "25000/25000 [==============================] - 145s 6ms/step - loss: 0.0393 - acc: 0.9860 - val_loss: 0.5872 - val_acc: 0.8705\n"
     ]
    },
    {
     "data": {
      "image/png": "[encoded data removed]",
      "text/plain": [
       "<Figure size 432x288 with 1 Axes>"
      ]
     },
     "metadata": {
      "needs_background": "light"
     },
     "output_type": "display_data"
    }
   ],
   "source": [
    "# Model 1\n",
    "mfit = model1.fit(x_train, y_train, batch_size = 64, epochs = 5, validation_data = (x_test, y_test))\n",
    "mfit\n",
    "\n",
    "score = model1.evaluate(x_test, y_test, verbose=0)\n",
    "\n",
    "import matplotlib.pyplot as plt\n",
    "\n",
    "# Plot training & validation accuracy values for Model 1\n",
    "plt.plot(mfit.history['acc'])\n",
    "plt.plot(mfit.history['val_acc'])\n",
    "plt.title('Model accuracy - Model 1')\n",
    "plt.ylabel('Accuracy')\n",
    "plt.xlabel('Epoch')\n",
    "plt.legend(['Train', 'Test'], loc='upper left')\n",
    "plt.show()\n"
   ]
  },
  {
   "cell_type": "code",
   "execution_count": 16,
   "metadata": {},
   "outputs": [
    {
     "name": "stdout",
     "output_type": "stream",
     "text": [
      "Train on 25000 samples, validate on 25000 samples\n",
      "Epoch 1/5\n",
      "25000/25000 [==============================] - 143s 6ms/step - loss: 0.0323 - acc: 0.9918 - val_loss: 0.4093 - val_acc: 0.8729\n",
      "Epoch 2/5\n",
      "25000/25000 [==============================] - 142s 6ms/step - loss: 0.0072 - acc: 0.9993 - val_loss: 0.4795 - val_acc: 0.8725\n",
      "Epoch 3/5\n",
      "25000/25000 [==============================] - 141s 6ms/step - loss: 0.0025 - acc: 0.9998 - val_loss: 0.5372 - val_acc: 0.8716\n",
      "Epoch 4/5\n",
      "25000/25000 [==============================] - 142s 6ms/step - loss: 0.0019 - acc: 0.9999 - val_loss: 0.5631 - val_acc: 0.8712\n",
      "Epoch 5/5\n",
      "25000/25000 [==============================] - 142s 6ms/step - loss: 0.0011 - acc: 1.0000 - val_loss: 0.5791 - val_acc: 0.8753\n"
     ]
    },
    {
     "data": {
      "image/png": "[encoded data removed]",
      "text/plain": [
       "<Figure size 432x288 with 1 Axes>"
      ]
     },
     "metadata": {
      "needs_background": "light"
     },
     "output_type": "display_data"
    }
   ],
   "source": [
    "# Model 2\n",
    "mfit = model2.fit(x_train, y_train, batch_size = 64, epochs = 5, validation_data = (x_test, y_test))\n",
    "mfit\n",
    "\n",
    "score = model2.evaluate(x_test, y_test, verbose=0)\n",
    "\n",
    "# Plot training & validation accuracy values for Model 2\n",
    "plt.plot(mfit.history['acc'])\n",
    "plt.plot(mfit.history['val_acc'])\n",
    "plt.title('Model accuracy - Model 2')\n",
    "plt.ylabel('Accuracy')\n",
    "plt.xlabel('Epoch')\n",
    "plt.legend(['Train', 'Test'], loc='upper left')\n",
    "plt.show()"
   ]
  },
  {
   "cell_type": "code",
   "execution_count": 17,
   "metadata": {},
   "outputs": [
    {
     "name": "stdout",
     "output_type": "stream",
     "text": [
      "Model 3 accuracy: 0.69804\n"
     ]
    }
   ],
   "source": [
    "# Model 3\n",
    "model3.fit(x_train, y_train)\n",
    "print(\"Model 3 accuracy:\", model3.score(x_test, y_test))"
   ]
  },
  {
   "cell_type": "code",
   "execution_count": 19,
   "metadata": {},
   "outputs": [
    {
     "name": "stdout",
     "output_type": "stream",
     "text": [
      "Model 4 accuracy: 0.83744\n"
     ]
    }
   ],
   "source": [
    "# Model 4\n",
    "model4.fit(x_train, y_train)\n",
    "print(\"Model 4 accuracy:\", model4.score(x_test, y_test))"
   ]
  },
  {
   "cell_type": "markdown",
   "metadata": {},
   "source": [
    "In this project, the model performance indicator is accuracy. Accuracy is the ratio of number of correct predictions to the total number of input samples. It is a very simple and intuitive measure, and it works well only if there are equal number of samples belonging to each class. Since my dataset has equal number of samples belonging to each class, I am using accuracy. \n",
    "\n",
    "Based on the accuracy measure, out of the models trained, Model 1 seems to perform best (accuracy on test data = 87.3%, accuracy on train data = 86%). It does not seem to be overfitting. Therefore, Model 1 is chosen as the final model."
   ]
  },
  {
   "cell_type": "markdown",
   "metadata": {},
   "source": [
    "## Model Deployment\n",
    "\n",
    "The insights from the model can be encapsuled behind an API that would be consumed by IMBD to highlight reviews in color on the website and understadn the overall polarity of a review. It could also be used in determining which movie should be recommended to a reviewer given that his/her review for a particular movie was negative/positive.   \n"
   ]
  }
 ],
 "metadata": {
  "kernelspec": {
   "display_name": "Python 3.6 with Spark",
   "language": "python3",
   "name": "python36"
  },
  "language_info": {
   "codemirror_mode": {
    "name": "ipython",
    "version": 3
   },
   "file_extension": ".py",
   "mimetype": "text/x-python",
   "name": "python",
   "nbconvert_exporter": "python",
   "pygments_lexer": "ipython3",
   "version": "3.6.8"
  }
 },
 "nbformat": 4,
 "nbformat_minor": 1
}
